{
 "cells": [
  {
   "cell_type": "code",
   "execution_count": null,
   "metadata": {},
   "outputs": [],
   "source": [
    "import numpy as np\n",
    "\n",
    "ABSENT = -1\n",
    "DEAD = 0\n",
    "ALIVE = 1\n"
   ]
  },
  {
   "cell_type": "code",
   "execution_count": null,
   "metadata": {},
   "outputs": [],
   "source": [
    "class Cell:\n",
    "    def __init__(self, x: int, y: int, max_cycle: int):\n",
    "        self.status = ALIVE\n",
    "        self.p_propagate = 0.5\n",
    "        self.p_die = 0.5\n",
    "        self.cycle = 1\n",
    "        self.x, self.y = (x,y)\n",
    "        self.max_cycle = max_cycle\n",
    "    \n",
    "    def next(self):\n",
    "        if self.status != ALIVE: return (self.x, self.y)\n",
    "        self.update_p()\n",
    "        if self.should_die():\n",
    "            return self.die()\n",
    "\n",
    "        self.cycle += 1\n",
    "        self.update_p()\n",
    "\n",
    "        if self.should_propagate():\n",
    "            return self.propagate()\n",
    "        else:\n",
    "            return (self.x, self.y)\n",
    "    def update_p(self):\n",
    "        '''Update probabilities of this cell to divide or to die'''\n",
    "        if self.status == ALIVE:\n",
    "            if self.cycle >= self.max_cycle:\n",
    "                self.p_die = 1.0\n",
    "            \n",
    "    def should_die(self):\n",
    "            return False\n",
    "        return True\n",
    "    \n",
    "    def die(self):\n",
    "        self.status = DEAD\n",
    "        self.cycle = 0\n",
    "\n",
    "    def update_p(self):\n",
    "\n",
    "    "
   ]
  },
  {
   "cell_type": "code",
   "execution_count": null,
   "metadata": {},
   "outputs": [],
   "source": [
    "class Map:\n",
    "    def __init__(self, width: int, height: int):\n",
    "        self.height = height\n",
    "        self.width = width\n",
    "        self.map = np.array[]\n",
    "\n",
    "    def.run(self, iter: int, probs: list(int), )\n"
   ]
  }
 ],
 "metadata": {
  "language_info": {
   "name": "python"
  },
  "orig_nbformat": 4
 },
 "nbformat": 4,
 "nbformat_minor": 2
}
